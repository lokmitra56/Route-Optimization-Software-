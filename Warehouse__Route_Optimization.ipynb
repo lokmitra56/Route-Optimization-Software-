{
  "nbformat": 4,
  "nbformat_minor": 0,
  "metadata": {
    "colab": {
      "name": "Warehouse _Route_Optimization.ipynb",
      "provenance": [],
      "collapsed_sections": [
        "LNN7II2ln13g"
      ]
    },
    "kernelspec": {
      "name": "python3",
      "display_name": "Python 3"
    },
    "language_info": {
      "name": "python"
    }
  },
  "cells": [
    {
      "cell_type": "markdown",
      "metadata": {
        "id": "NVKwx1O_j5zu"
      },
      "source": [
        "# 1) Finder Class and its Methods"
      ]
    },
    {
      "cell_type": "code",
      "metadata": {
        "id": "Bm825cAaVIoq"
      },
      "source": [
        "import itertools\n",
        "import numpy as np\n",
        "\n",
        "class Finder:\n",
        "\n",
        "    # Defining attributes of class (Constructor)\n",
        "    def __init__(self, dist_mat, initial_route): \n",
        "        self.dist_mat = dist_mat\n",
        "        self.num_cities = len(self.dist_mat)\n",
        "        self.initial_route = initial_route\n",
        "        self.best_route = []\n",
        "        self.best_distance = 0\n",
        "        self.distances = []\n",
        "\n",
        "    # Update Existing route with new one\n",
        "    def update(self, new_route, new_distance):\n",
        "        self.best_distance = new_distance\n",
        "        self.best_route = new_route\n",
        "        return self.best_distance, self.best_route\n",
        "\n",
        "    # \n",
        "    def exhaustive_search(self):\n",
        "        self.best_route = [0] + list(range(1, self.num_cities))\n",
        "        self.best_distance = self.total_path_distance(self.dist_mat, self.best_route)\n",
        "\n",
        "        for new_route in itertools.permutations(list(range(1, self.num_cities))):\n",
        "            new_distance = self.total_path_distance(self.dist_mat, [0] + list(new_route[:]))\n",
        "\n",
        "            if new_distance < self.best_distance:\n",
        "                self.update([0] + list(new_route[:]), new_distance)\n",
        "                self.distances.append(self.best_distance)\n",
        "\n",
        "        return self.best_route, self.best_distance, self.distances\n",
        "\n",
        "    def two_opt(self, improve_threshold=0.01):\n",
        "        self.best_route = self.initial_route\n",
        "        self.best_distance = self.total_path_distance(self.dist_mat, self.best_route)\n",
        "        improve_factor = 1\n",
        "        \n",
        "        while improve_factor > improve_threshold:\n",
        "            previous_best = self.best_distance\n",
        "            for swap_first in range(1, self.num_cities - 2):\n",
        "                for swap_last in range(swap_first + 1, self.num_cities - 1):\n",
        "                    before_start = self.best_route[swap_first - 1]\n",
        "                    start = self.best_route[swap_first]\n",
        "                    end = self.best_route[swap_last]\n",
        "                    after_end = self.best_route[swap_last+1]\n",
        "                    before = self.dist_mat[before_start][start] + self.dist_mat[end][after_end]\n",
        "                    after = self.dist_mat[before_start][end] + self.dist_mat[start][after_end]\n",
        "                    if after < before:\n",
        "                        new_route = self.swap(self.best_route, swap_first, swap_last)\n",
        "                        new_distance = self.total_path_distance(self.dist_mat, new_route)\n",
        "                        self.update(new_route, new_distance)\n",
        "\n",
        "            improve_factor = 1 - self.best_distance/previous_best\n",
        "        return self.best_route, self.best_distance, self.distances\n",
        "\n",
        "    @staticmethod\n",
        "    def total_path_distance(dist_mat, path):\n",
        "        path_distance = 0\n",
        "        for ind in range(len(path) - 1):\n",
        "            path_distance += dist_mat[path[ind]][path[ind + 1]]\n",
        "        return float(\"{0:.2f}\".format(path_distance))\n",
        "\n",
        "    @staticmethod\n",
        "    def swap(path, swap_first, swap_last):\n",
        "        path_updated = np.concatenate((path[0:swap_first],\n",
        "                                       path[swap_last:-len(path) + swap_first - 1:-1],\n",
        "                                       path[swap_last + 1:len(path)]))\n",
        "        return path_updated.tolist()"
      ],
      "execution_count": 1,
      "outputs": []
    },
    {
      "cell_type": "markdown",
      "metadata": {
        "id": "Mkwk6OzekWRN"
      },
      "source": [
        "# 2) RouteFinder Class and solve() method"
      ]
    },
    {
      "cell_type": "code",
      "metadata": {
        "id": "CFHXaRQbZdKq",
        "colab": {
          "base_uri": "https://localhost:8080/"
        },
        "outputId": "c77087f4-0e8f-40d1-9a0d-bf08c14b5af0"
      },
      "source": [
        "pip install random2"
      ],
      "execution_count": 2,
      "outputs": [
        {
          "output_type": "stream",
          "name": "stdout",
          "text": [
            "Requirement already satisfied: random2 in /usr/local/lib/python3.7/dist-packages (1.0.1)\n"
          ]
        }
      ]
    },
    {
      "cell_type": "code",
      "metadata": {
        "id": "DLmv7kabU01a"
      },
      "source": [
        "import random2\n",
        "import time\n",
        "\n",
        "class Route:\n",
        "    def __init__(self, dist_mat, order_list, iterations = 100, writer_flag=False, method='py2opt'):\n",
        "        self.dist_mat = dist_mat\n",
        "        self.iterations = iterations\n",
        "        self.writer_flag = writer_flag\n",
        "        self.order_list = order_list\n",
        "\n",
        "class RouteFinder:\n",
        "    def __init__(self, dist_mat, cities_names, iterations=5, writer_flag=False, method='py2opt'):\n",
        "        self.dist_mat = dist_mat\n",
        "        self.iterations = iterations\n",
        "        self.writer_flag = writer_flag\n",
        "        self.cities_names = cities_names\n",
        "\n",
        "    def solve(self):\n",
        "        start_time = round(time.time() * 1000)\n",
        "        elapsed_time = 0\n",
        "        iteration = 0\n",
        "        best_distance = 0\n",
        "        best_route = []\n",
        "        best_distances = []\n",
        "\n",
        "        while iteration < self.iterations:\n",
        "            num_cities = len(self.dist_mat)\n",
        "            #print(round(elapsed_time), 'msec')\n",
        "            init_path = [0] + random2.sample(range(1, num_cities), num_cities - 1)\n",
        "            tsp = Finder(self.dist_mat, init_path)\n",
        "            new_route, new_distance, distances = tsp.two_opt()\n",
        "\n",
        "            if iteration == 0:\n",
        "                best_distance = new_distance\n",
        "                best_route = new_route\n",
        "            else:\n",
        "                pass\n",
        "\n",
        "            if new_distance < best_distance:\n",
        "                best_distance = new_distance\n",
        "                best_route = new_route\n",
        "                best_distances = distances\n",
        "\n",
        "            elapsed_time = round(time.time() * 1000) - start_time\n",
        "            iteration += 1\n",
        "\n",
        "        if self.writer_flag:\n",
        "            self.writer(best_route, best_distance, self.cities_names)\n",
        "\n",
        "        if self.cities_names:\n",
        "            best_route = [self.cities_names[i] for i in best_route]\n",
        "            return best_distance, best_route\n",
        "        else:\n",
        "            return best_distance, best_route\n",
        "\n",
        "    @staticmethod\n",
        "    def writer(best_route, best_distance, cities_names):\n",
        "        f = open(\"../results.txt\", \"w+\")\n",
        "        for i in best_route:\n",
        "            f.write(cities_names[i])\n",
        "            f.write(\"\\n\")\n",
        "            print(cities_names[i])\n",
        "        f.write(str(best_distance))\n",
        "        f.close()"
      ],
      "execution_count": 3,
      "outputs": []
    },
    {
      "cell_type": "markdown",
      "metadata": {
        "id": "S4uY1J8kk3wF"
      },
      "source": [
        "# 3) distance() function"
      ]
    },
    {
      "cell_type": "code",
      "metadata": {
        "id": "QV1QqoxyhuO3"
      },
      "source": [
        "def distance(C,D):\n",
        "    A = C.copy()\n",
        "    B = D.copy()\n",
        "    if A[0]%3 == 0: A[0]=A[0]+1 \n",
        "    else : A[0]=A[0]-1\n",
        "    if B[0]%3 == 0: B[0]=B[0]+1\n",
        "    else : B[0]=B[0]-1            \n",
        "\n",
        "    line_bel_A = 6 * (A[1]//7) + 1\n",
        "    line_bel_B = 6 * (B[1]//7) + 1\n",
        "\n",
        "    if line_bel_A == line_bel_B:\n",
        "        return min((A[1]-line_bel_A) + (B[1]-line_bel_B) + abs(A[0]-B[0]) + 1,\n",
        "                   (line_bel_A + 6 - A[1]) + (line_bel_B + 6 - B[1]) + abs(A[0]-B[0]) + 1)\n",
        "\n",
        "    return abs(A[0]-B[0]) + abs(A[1]-B[1]) + 1"
      ],
      "execution_count": 4,
      "outputs": []
    },
    {
      "cell_type": "markdown",
      "metadata": {
        "id": "z2Jv9mmbj6Gp"
      },
      "source": [
        "# 4) getorganized() function for getting organised products in warehouse"
      ]
    },
    {
      "cell_type": "code",
      "metadata": {
        "id": "57K0zPcrj49n"
      },
      "source": [
        "# importing min heap libraries\n",
        "from heapq import heapify, heappush, heappop\n",
        "\n",
        "# Naming to put element in Dictionary\n",
        "def getname(a):    \n",
        "    temp = \"product_\"\n",
        "    name = temp + str(a)\n",
        "    if a <= 9 :\n",
        "        name  = name + \" \"\n",
        "      \n",
        "    return name\n",
        "\n",
        "# Core Function to return Dictionary\n",
        "def getorganized(N,M):\n",
        "    box = {}\n",
        "    arr1 = []\n",
        "    arr2 = []\n",
        "    \n",
        "    for i in range(1,N):\n",
        "        if (i-1)%3 != 0: arr1.append(i)\n",
        "    for i in range(1,M):\n",
        "        if (i-1)%6 != 0: arr2.append(i)\n",
        "    \n",
        "    st = 0\n",
        "    end = st + 4\n",
        "    prod = 1\n",
        "    heap = []\n",
        "    heapify(heap)\n",
        "    \n",
        "    for k in range(len(arr2)//5):\n",
        "        for i in range(len(arr1)):\n",
        "            for j in range(st,end+1):\n",
        "                heappush(heap,(arr1[i]+arr2[j], [arr1[i],arr2[j]]))\n",
        "                \n",
        "            if i%2 == 1:\n",
        "                name = getname(prod)\n",
        "                box[name] = heap\n",
        "                prod = prod + 1\n",
        "                heap = []\n",
        "                heapify(heap)\n",
        "                \n",
        "        st = end + 1\n",
        "        end = st + 4\n",
        "        \n",
        "    return box"
      ],
      "execution_count": 5,
      "outputs": []
    },
    {
      "cell_type": "markdown",
      "metadata": {
        "id": "ohSt37uHlpDZ"
      },
      "source": [
        "# 5) getrandom() function for getting random placement of products in warehouse"
      ]
    },
    {
      "cell_type": "code",
      "metadata": {
        "id": "e0SMAXnscG27"
      },
      "source": [
        "def getrandom(N,M):\n",
        "    \n",
        "    box = {}\n",
        "    arr1 = []\n",
        "    arr2 = []\n",
        "    loc = []\n",
        "    \n",
        "    for i in range(1,N):\n",
        "        if (i-1)%3 != 0: arr1.append(i)\n",
        "    for i in range(1,M):\n",
        "        if (i-1)%6 != 0: arr2.append(i)\n",
        "    \n",
        "    for i in range(len(arr1)):\n",
        "        for j in range(len(arr2)):\n",
        "            loc.append((arr1[i]+arr2[j], [arr1[i],arr2[j]]))\n",
        "    \n",
        "    np.random.shuffle(loc)\n",
        "    \n",
        "    prod = 1\n",
        "    name = getname(prod)\n",
        "    box[name] = []\n",
        "    heapify(box[name])\n",
        "    \n",
        "    for i in range(len(loc)):\n",
        " \n",
        "        heappush(box[name], loc[i])  \n",
        "        \n",
        "        if ((i+1)%10 == 0 and i+1 != len(loc)): \n",
        "            prod = prod + 1\n",
        "            name = getname(prod)\n",
        "            box[name] = []\n",
        "            heapify(box[name])\n",
        "            \n",
        "    return box"
      ],
      "execution_count": 6,
      "outputs": []
    },
    {
      "cell_type": "markdown",
      "metadata": {
        "id": "KFgduLiwlTfl"
      },
      "source": [
        "# 6) Genrating two dictionaries 1) Organised and 2) Randomized "
      ]
    },
    {
      "cell_type": "code",
      "metadata": {
        "id": "ceMKvAcVlmLX"
      },
      "source": [
        "avail_items = getorganized(25,25)\n",
        "avail_items_1 = getrandom(25,25)"
      ],
      "execution_count": 7,
      "outputs": []
    },
    {
      "cell_type": "markdown",
      "metadata": {
        "id": "8fw8PhXJ66Bf"
      },
      "source": [
        "## a) Visualization of **i. Organised** and **ii. Randomized** version of product placement in warehouse\n",
        "\n"
      ]
    },
    {
      "cell_type": "code",
      "metadata": {
        "id": "pEvws4N1_EqP"
      },
      "source": [
        "from random import randint\n",
        "import seaborn as sns\n",
        "import matplotlib.pyplot as plt\n",
        "\n",
        "def plot_struct(struct,x):\n",
        "    \n",
        "    color = sns.color_palette('husl', n_colors=len(struct))     # a list of RGB tuples\n",
        "\n",
        "    plt.title(x,fontsize=23)\n",
        "    color_count = 0\n",
        "    for i in struct:\n",
        "        for j in struct[i]:\n",
        "            plt.scatter([j[1][0]],[j[1][1]],color=color[color_count], linewidths = 4)\n",
        "        color_count = color_count + 1"
      ],
      "execution_count": 8,
      "outputs": []
    },
    {
      "cell_type": "code",
      "metadata": {
        "colab": {
          "base_uri": "https://localhost:8080/",
          "height": 482
        },
        "id": "o5luPq1c7hn-",
        "outputId": "0531e182-ddca-4d7c-c9a1-4f8b37c57333"
      },
      "source": [
        "struct_1 = avail_items.copy()\n",
        "struct_2 = avail_items_1.copy()\n",
        "\n",
        "plt.subplots(figsize=(26, 8))\n",
        "plt.subplot(1, 2, 1)\n",
        "plot_struct(struct_1, 'Warehouse in Organized Product Placement')\n",
        "plt.subplot(1, 2, 2)\n",
        "plot_struct(struct_2, 'Warehouse in Random Product Placement')"
      ],
      "execution_count": 9,
      "outputs": [
        {
          "output_type": "display_data",
          "data": {
            "image/png": "[encoded data removed]",
            "text/plain": [
              "<Figure size 1872x576 with 2 Axes>"
            ]
          },
          "metadata": {
            "needs_background": "light"
          }
        }
      ]
    },
    {
      "cell_type": "markdown",
      "metadata": {
        "id": "EQzQXlwUnKtx"
      },
      "source": [
        "# 6) User's input orders for picking products from Warehouse"
      ]
    },
    {
      "cell_type": "code",
      "metadata": {
        "colab": {
          "base_uri": "https://localhost:8080/"
        },
        "id": "DF-dw2rs1uLq",
        "outputId": "2d6a80fe-455b-4648-c86b-2fc6bcd7e65b"
      },
      "source": [
        "n = int(input(\"Enter no. of products you want to order: \"))\n",
        "order = list(input(\"Enter products no.s you want to order: \").split())\n",
        "\n",
        "if len(order) != n: \n",
        "  print(\"\\nPlease enter the same numbers of items you mentioned above.\\n\")\n",
        "else:\n",
        "  for i in range(n):\n",
        "    if len(order[i]) == 1: order[i] = \"product_\"+ str(order[i]) + \" \"\n",
        "    else: order[i] = \"product_\"+ str(order[i]) \n",
        "  "
      ],
      "execution_count": 10,
      "outputs": [
        {
          "name": "stdout",
          "output_type": "stream",
          "text": [
            "Enter no. of products you want to order: 15\n",
            "Enter products no.s you want to order: 1 5 10 15 20 25 30 35 3 6 9 12 14 17 23 \n"
          ]
        }
      ]
    },
    {
      "cell_type": "markdown",
      "metadata": {
        "id": "hxOllP4RU1yr"
      },
      "source": [
        "# **7) For Organized Warehouse**"
      ]
    },
    {
      "cell_type": "markdown",
      "metadata": {
        "id": "1qUIgW1CnkAQ"
      },
      "source": [
        "## a) Lists of Orders available and Not Available"
      ]
    },
    {
      "cell_type": "code",
      "metadata": {
        "colab": {
          "base_uri": "https://localhost:8080/"
        },
        "id": "jaUqjfbt0rOO",
        "outputId": "72dbcdfe-f57e-46fa-daca-86d94b0f679f"
      },
      "source": [
        "X,Y = [],[]\n",
        "for i in order:\n",
        "    if i in avail_items:\n",
        "        if len(avail_items[i]) != 0:\n",
        "            X.append(i)\n",
        "    else : Y.append(i)\n",
        "print(\"\\nYour Order List is: \", order, \"\\n\")\n",
        "print(\"Orders Available in Warehouse: \", X, \"\\n\")\n",
        "print(\"Orders Not Available in Warehouse: \", Y)"
      ],
      "execution_count": 11,
      "outputs": [
        {
          "output_type": "stream",
          "name": "stdout",
          "text": [
            "\n",
            "Your Order List is:  ['product_1 ', 'product_5 ', 'product_10', 'product_15', 'product_20', 'product_25', 'product_30', 'product_35', 'product_3 ', 'product_6 ', 'product_9 ', 'product_12', 'product_14', 'product_17', 'product_23'] \n",
            "\n",
            "Orders Available in Warehouse:  ['product_1 ', 'product_5 ', 'product_10', 'product_15', 'product_20', 'product_25', 'product_30', 'product_3 ', 'product_6 ', 'product_9 ', 'product_12', 'product_14', 'product_17', 'product_23'] \n",
            "\n",
            "Orders Not Available in Warehouse:  ['product_35']\n"
          ]
        }
      ]
    },
    {
      "cell_type": "code",
      "metadata": {
        "id": "KWP3qIh1vb-c"
      },
      "source": [
        "X_loc = []\n",
        "\n",
        "for i in X:\n",
        "    X_loc.append(heappop(avail_items[i])[1])\n",
        "\n",
        "X_dict = {}\n",
        "for i in range(len(X)):\n",
        "    X_dict[X[i]] = X_loc[i]"
      ],
      "execution_count": 12,
      "outputs": []
    },
    {
      "cell_type": "markdown",
      "metadata": {
        "id": "c7eGV9uun_jS"
      },
      "source": [
        "## b) **Distance Matrix** for given orders"
      ]
    },
    {
      "cell_type": "code",
      "metadata": {
        "colab": {
          "base_uri": "https://localhost:8080/",
          "height": 749
        },
        "id": "rch5c-6v3sHp",
        "outputId": "b070a7ec-bab9-42de-8bbf-df4abb77e803"
      },
      "source": [
        "dist_mat = np.zeros([len(X),len(X)], dtype=int)\n",
        "\n",
        "for i in range(len(X)):\n",
        "    for j in range(i+1,len(X)):\n",
        "        dist_mat[i][j] = dist_mat[j][i] = distance(X_dict[X[i]].copy(),X_dict[X[j]].copy())\n",
        "\n",
        "print(dist_mat, \"\\n\")\n",
        "data = np.array(dist_mat)\n",
        "import pandas as pd\n",
        "pd.DataFrame(data,X,X)"
      ],
      "execution_count": 13,
      "outputs": [
        {
          "output_type": "stream",
          "name": "stdout",
          "text": [
            "[[ 0 15 10 25 22 19 34  9 18  7 16 22 13 31]\n",
            " [15  0 16 13 16 31 22  9  6 19 10 10 25 19]\n",
            " [10 16  0 18 13 16 25 10 19  6  9 15 10 22]\n",
            " [25 13 18  0 16 31 16 19 10 21 12  6 25  7]\n",
            " [22 16 13 16  0 14 11 16 19 16  7 13 12 12]\n",
            " [19 31 16 31 14  0 14 25 34 13 22 28  5 23]\n",
            " [34 22 25 16 11 14  0 28 19 28 19 13 20  8]\n",
            " [ 9  9 10 19 16 25 28  0 12 13 10 16 19 25]\n",
            " [18  6 19 10 19 34 19 12  0 22 13  7 28 16]\n",
            " [ 7 19  6 21 16 13 28 13 22  0 12 18  7 25]\n",
            " [16 10  9 12  7 22 19 10 13 12  0  9 16 16]\n",
            " [22 10 15  6 13 28 13 16  7 18  9  0 22 10]\n",
            " [13 25 10 25 12  5 20 19 28  7 16 22  0 21]\n",
            " [31 19 22  7 12 23  8 25 16 25 16 10 21  0]] \n",
            "\n"
          ]
        },
        {
          "output_type": "execute_result",
          "data": {
            "text/html": [
              "<div>\n",
              "<style scoped>\n",
              "    .dataframe tbody tr th:only-of-type {\n",
              "        vertical-align: middle;\n",
              "    }\n",
              "\n",
              "    .dataframe tbody tr th {\n",
              "        vertical-align: top;\n",
              "    }\n",
              "\n",
              "    .dataframe thead th {\n",
              "        text-align: right;\n",
              "    }\n",
              "</style>\n",
              "<table border=\"1\" class=\"dataframe\">\n",
              "  <thead>\n",
              "    <tr style=\"text-align: right;\">\n",
              "      <th></th>\n",
              "      <th>product_1</th>\n",
              "      <th>product_5</th>\n",
              "      <th>product_10</th>\n",
              "      <th>product_15</th>\n",
              "      <th>product_20</th>\n",
              "      <th>product_25</th>\n",
              "      <th>product_30</th>\n",
              "      <th>product_3</th>\n",
              "      <th>product_6</th>\n",
              "      <th>product_9</th>\n",
              "      <th>product_12</th>\n",
              "      <th>product_14</th>\n",
              "      <th>product_17</th>\n",
              "      <th>product_23</th>\n",
              "    </tr>\n",
              "  </thead>\n",
              "  <tbody>\n",
              "    <tr>\n",
              "      <th>product_1</th>\n",
              "      <td>0</td>\n",
              "      <td>15</td>\n",
              "      <td>10</td>\n",
              "      <td>25</td>\n",
              "      <td>22</td>\n",
              "      <td>19</td>\n",
              "      <td>34</td>\n",
              "      <td>9</td>\n",
              "      <td>18</td>\n",
              "      <td>7</td>\n",
              "      <td>16</td>\n",
              "      <td>22</td>\n",
              "      <td>13</td>\n",
              "      <td>31</td>\n",
              "    </tr>\n",
              "    <tr>\n",
              "      <th>product_5</th>\n",
              "      <td>15</td>\n",
              "      <td>0</td>\n",
              "      <td>16</td>\n",
              "      <td>13</td>\n",
              "      <td>16</td>\n",
              "      <td>31</td>\n",
              "      <td>22</td>\n",
              "      <td>9</td>\n",
              "      <td>6</td>\n",
              "      <td>19</td>\n",
              "      <td>10</td>\n",
              "      <td>10</td>\n",
              "      <td>25</td>\n",
              "      <td>19</td>\n",
              "    </tr>\n",
              "    <tr>\n",
              "      <th>product_10</th>\n",
              "      <td>10</td>\n",
              "      <td>16</td>\n",
              "      <td>0</td>\n",
              "      <td>18</td>\n",
              "      <td>13</td>\n",
              "      <td>16</td>\n",
              "      <td>25</td>\n",
              "      <td>10</td>\n",
              "      <td>19</td>\n",
              "      <td>6</td>\n",
              "      <td>9</td>\n",
              "      <td>15</td>\n",
              "      <td>10</td>\n",
              "      <td>22</td>\n",
              "    </tr>\n",
              "    <tr>\n",
              "      <th>product_15</th>\n",
              "      <td>25</td>\n",
              "      <td>13</td>\n",
              "      <td>18</td>\n",
              "      <td>0</td>\n",
              "      <td>16</td>\n",
              "      <td>31</td>\n",
              "      <td>16</td>\n",
              "      <td>19</td>\n",
              "      <td>10</td>\n",
              "      <td>21</td>\n",
              "      <td>12</td>\n",
              "      <td>6</td>\n",
              "      <td>25</td>\n",
              "      <td>7</td>\n",
              "    </tr>\n",
              "    <tr>\n",
              "      <th>product_20</th>\n",
              "      <td>22</td>\n",
              "      <td>16</td>\n",
              "      <td>13</td>\n",
              "      <td>16</td>\n",
              "      <td>0</td>\n",
              "      <td>14</td>\n",
              "      <td>11</td>\n",
              "      <td>16</td>\n",
              "      <td>19</td>\n",
              "      <td>16</td>\n",
              "      <td>7</td>\n",
              "      <td>13</td>\n",
              "      <td>12</td>\n",
              "      <td>12</td>\n",
              "    </tr>\n",
              "    <tr>\n",
              "      <th>product_25</th>\n",
              "      <td>19</td>\n",
              "      <td>31</td>\n",
              "      <td>16</td>\n",
              "      <td>31</td>\n",
              "      <td>14</td>\n",
              "      <td>0</td>\n",
              "      <td>14</td>\n",
              "      <td>25</td>\n",
              "      <td>34</td>\n",
              "      <td>13</td>\n",
              "      <td>22</td>\n",
              "      <td>28</td>\n",
              "      <td>5</td>\n",
              "      <td>23</td>\n",
              "    </tr>\n",
              "    <tr>\n",
              "      <th>product_30</th>\n",
              "      <td>34</td>\n",
              "      <td>22</td>\n",
              "      <td>25</td>\n",
              "      <td>16</td>\n",
              "      <td>11</td>\n",
              "      <td>14</td>\n",
              "      <td>0</td>\n",
              "      <td>28</td>\n",
              "      <td>19</td>\n",
              "      <td>28</td>\n",
              "      <td>19</td>\n",
              "      <td>13</td>\n",
              "      <td>20</td>\n",
              "      <td>8</td>\n",
              "    </tr>\n",
              "    <tr>\n",
              "      <th>product_3</th>\n",
              "      <td>9</td>\n",
              "      <td>9</td>\n",
              "      <td>10</td>\n",
              "      <td>19</td>\n",
              "      <td>16</td>\n",
              "      <td>25</td>\n",
              "      <td>28</td>\n",
              "      <td>0</td>\n",
              "      <td>12</td>\n",
              "      <td>13</td>\n",
              "      <td>10</td>\n",
              "      <td>16</td>\n",
              "      <td>19</td>\n",
              "      <td>25</td>\n",
              "    </tr>\n",
              "    <tr>\n",
              "      <th>product_6</th>\n",
              "      <td>18</td>\n",
              "      <td>6</td>\n",
              "      <td>19</td>\n",
              "      <td>10</td>\n",
              "      <td>19</td>\n",
              "      <td>34</td>\n",
              "      <td>19</td>\n",
              "      <td>12</td>\n",
              "      <td>0</td>\n",
              "      <td>22</td>\n",
              "      <td>13</td>\n",
              "      <td>7</td>\n",
              "      <td>28</td>\n",
              "      <td>16</td>\n",
              "    </tr>\n",
              "    <tr>\n",
              "      <th>product_9</th>\n",
              "      <td>7</td>\n",
              "      <td>19</td>\n",
              "      <td>6</td>\n",
              "      <td>21</td>\n",
              "      <td>16</td>\n",
              "      <td>13</td>\n",
              "      <td>28</td>\n",
              "      <td>13</td>\n",
              "      <td>22</td>\n",
              "      <td>0</td>\n",
              "      <td>12</td>\n",
              "      <td>18</td>\n",
              "      <td>7</td>\n",
              "      <td>25</td>\n",
              "    </tr>\n",
              "    <tr>\n",
              "      <th>product_12</th>\n",
              "      <td>16</td>\n",
              "      <td>10</td>\n",
              "      <td>9</td>\n",
              "      <td>12</td>\n",
              "      <td>7</td>\n",
              "      <td>22</td>\n",
              "      <td>19</td>\n",
              "      <td>10</td>\n",
              "      <td>13</td>\n",
              "      <td>12</td>\n",
              "      <td>0</td>\n",
              "      <td>9</td>\n",
              "      <td>16</td>\n",
              "      <td>16</td>\n",
              "    </tr>\n",
              "    <tr>\n",
              "      <th>product_14</th>\n",
              "      <td>22</td>\n",
              "      <td>10</td>\n",
              "      <td>15</td>\n",
              "      <td>6</td>\n",
              "      <td>13</td>\n",
              "      <td>28</td>\n",
              "      <td>13</td>\n",
              "      <td>16</td>\n",
              "      <td>7</td>\n",
              "      <td>18</td>\n",
              "      <td>9</td>\n",
              "      <td>0</td>\n",
              "      <td>22</td>\n",
              "      <td>10</td>\n",
              "    </tr>\n",
              "    <tr>\n",
              "      <th>product_17</th>\n",
              "      <td>13</td>\n",
              "      <td>25</td>\n",
              "      <td>10</td>\n",
              "      <td>25</td>\n",
              "      <td>12</td>\n",
              "      <td>5</td>\n",
              "      <td>20</td>\n",
              "      <td>19</td>\n",
              "      <td>28</td>\n",
              "      <td>7</td>\n",
              "      <td>16</td>\n",
              "      <td>22</td>\n",
              "      <td>0</td>\n",
              "      <td>21</td>\n",
              "    </tr>\n",
              "    <tr>\n",
              "      <th>product_23</th>\n",
              "      <td>31</td>\n",
              "      <td>19</td>\n",
              "      <td>22</td>\n",
              "      <td>7</td>\n",
              "      <td>12</td>\n",
              "      <td>23</td>\n",
              "      <td>8</td>\n",
              "      <td>25</td>\n",
              "      <td>16</td>\n",
              "      <td>25</td>\n",
              "      <td>16</td>\n",
              "      <td>10</td>\n",
              "      <td>21</td>\n",
              "      <td>0</td>\n",
              "    </tr>\n",
              "  </tbody>\n",
              "</table>\n",
              "</div>"
            ],
            "text/plain": [
              "            product_1   product_5   ...  product_17  product_23\n",
              "product_1            0          15  ...          13          31\n",
              "product_5           15           0  ...          25          19\n",
              "product_10          10          16  ...          10          22\n",
              "product_15          25          13  ...          25           7\n",
              "product_20          22          16  ...          12          12\n",
              "product_25          19          31  ...           5          23\n",
              "product_30          34          22  ...          20           8\n",
              "product_3            9           9  ...          19          25\n",
              "product_6           18           6  ...          28          16\n",
              "product_9            7          19  ...           7          25\n",
              "product_12          16          10  ...          16          16\n",
              "product_14          22          10  ...          22          10\n",
              "product_17          13          25  ...           0          21\n",
              "product_23          31          19  ...          21           0\n",
              "\n",
              "[14 rows x 14 columns]"
            ]
          },
          "metadata": {},
          "execution_count": 13
        }
      ]
    },
    {
      "cell_type": "markdown",
      "metadata": {
        "id": "7fOFVclCoTh6"
      },
      "source": [
        "## c) **RouteFinder object** and solving using **solve()** function "
      ]
    },
    {
      "cell_type": "code",
      "metadata": {
        "colab": {
          "base_uri": "https://localhost:8080/"
        },
        "id": "BXE_gPvq5RXy",
        "outputId": "2f62ef95-4b64-4f44-8e12-cdcdd9da1cec"
      },
      "source": [
        "first_order = RouteFinder(dist_mat, X, iterations=100)\n",
        "a,b = first_order.solve()\n",
        "print('2-optimal distance for given order is ', a, ' units')\n",
        "print('2-optimal route is \\n', b)"
      ],
      "execution_count": 14,
      "outputs": [
        {
          "output_type": "stream",
          "name": "stdout",
          "text": [
            "2-optimal distance for given order is  97.0  units\n",
            "2-optimal route is \n",
            " ['product_1 ', 'product_3 ', 'product_5 ', 'product_6 ', 'product_14', 'product_15', 'product_23', 'product_30', 'product_20', 'product_12', 'product_10', 'product_9 ', 'product_17', 'product_25']\n"
          ]
        }
      ]
    },
    {
      "cell_type": "markdown",
      "metadata": {
        "id": "QNlO8kkapQw1"
      },
      "source": [
        "## d) Visualization of Routes"
      ]
    },
    {
      "cell_type": "markdown",
      "metadata": {
        "id": "E48C-T2Cphkq"
      },
      "source": [
        "### i) Initial Non-Optimized Path"
      ]
    },
    {
      "cell_type": "code",
      "metadata": {
        "colab": {
          "base_uri": "https://localhost:8080/",
          "height": 537
        },
        "id": "Lk2apBZ92YUe",
        "outputId": "fae0f0ca-f67b-4c28-b34f-19f27185c8ff"
      },
      "source": [
        "import matplotlib.pyplot as plt\n",
        "\n",
        "c = b.copy()\n",
        "np.random.shuffle(c)\n",
        "xx_c = []\n",
        "yy_c = []\n",
        "for i in c:\n",
        "    xx_c.append(X_dict[i][0])\n",
        "    yy_c.append(X_dict[i][1])\n",
        "\n",
        "plt.figure(figsize=(15,9))\n",
        "plt.plot(xx_c, yy_c)\n",
        "plt.scatter(xx_c,yy_c,c='b')\n",
        "plt.scatter([X_dict[b[0]][0]],[X_dict[b[0]][1]],c='lime', marker='D', linewidths=10)\n",
        "plt.scatter([X_dict[b[len(b)-1]][0]],[X_dict[b[len(b)-1]][1]],c='r', marker='D', linewidths=10)\n",
        "# Increasing head_width of the arrow by setting head_width parameter\n",
        "for i in range(1,len(xx_c)):\n",
        "    plt.arrow(xx_c[i-1], yy_c[i-1], (xx_c[i]-xx_c[i-1])/2, (yy_c[i]-yy_c[i-1])/2,head_width = 0.25,width = 0.005,fc ='aquamarine', ec ='b')\n",
        "\n",
        "plt.show()"
      ],
      "execution_count": 15,
      "outputs": [
        {
          "output_type": "display_data",
          "data": {
            "image/png": "[encoded data removed]",
            "text/plain": [
              "<Figure size 1080x648 with 1 Axes>"
            ]
          },
          "metadata": {
            "needs_background": "light"
          }
        }
      ]
    },
    {
      "cell_type": "markdown",
      "metadata": {
        "id": "hGGfXZa0p6gY"
      },
      "source": [
        "### ii) Final Optimized Path"
      ]
    },
    {
      "cell_type": "code",
      "metadata": {
        "colab": {
          "base_uri": "https://localhost:8080/"
        },
        "id": "PgMkCkWGuDqj",
        "outputId": "d275522a-8b25-4262-ed1f-16fbc78a722c"
      },
      "source": [
        "for i in b:\n",
        "    print(i, X_dict[i])"
      ],
      "execution_count": 16,
      "outputs": [
        {
          "output_type": "stream",
          "name": "stdout",
          "text": [
            "product_1  [2, 2]\n",
            "product_3  [8, 2]\n",
            "product_5  [14, 2]\n",
            "product_6  [17, 2]\n",
            "product_14 [17, 8]\n",
            "product_15 [20, 8]\n",
            "product_23 [20, 14]\n",
            "product_30 [17, 20]\n",
            "product_20 [11, 14]\n",
            "product_12 [11, 8]\n",
            "product_10 [5, 8]\n",
            "product_9  [2, 8]\n",
            "product_17 [2, 14]\n",
            "product_25 [2, 20]\n"
          ]
        }
      ]
    },
    {
      "cell_type": "code",
      "metadata": {
        "colab": {
          "base_uri": "https://localhost:8080/",
          "height": 537
        },
        "id": "r-tv0VsnNPsy",
        "outputId": "6b8eaa89-43f0-4862-eb69-5ad47ebb5df1"
      },
      "source": [
        "import matplotlib.pyplot as plt\n",
        "\n",
        "xx = []\n",
        "yy = []\n",
        "for i in b:\n",
        "    xx.append(X_dict[i][0])\n",
        "    yy.append(X_dict[i][1])\n",
        "\n",
        "plt.figure(figsize=(15,9))\n",
        "plt.plot(xx, yy)\n",
        "plt.scatter(xx,yy,c='b')\n",
        "plt.scatter([X_dict[b[0]][0]],[X_dict[b[0]][1]],c='lime', marker='D', linewidths=10)\n",
        "plt.scatter([X_dict[b[len(b)-1]][0]],[X_dict[b[len(b)-1]][1]],c='r', marker='D', linewidths=10)\n",
        "# Increasing head_width of\n",
        "# the arrow by setting\n",
        "# head_width parameter\n",
        "for i in range(1,len(xx)):\n",
        "    plt.arrow(xx[i-1], yy[i-1], (xx[i]-xx[i-1])/2, (yy[i]-yy[i-1])/2,head_width = 0.25,width = 0.005,fc ='aqua', ec ='b')\n",
        "\n",
        "plt.show()"
      ],
      "execution_count": 17,
      "outputs": [
        {
          "output_type": "display_data",
          "data": {
            "image/png": "[encoded data removed]",
            "text/plain": [
              "<Figure size 1080x648 with 1 Axes>"
            ]
          },
          "metadata": {
            "needs_background": "light"
          }
        }
      ]
    },
    {
      "cell_type": "markdown",
      "metadata": {
        "id": "iSil8NPWXwXl"
      },
      "source": [
        "# 8) For Random Placement Warehouse"
      ]
    },
    {
      "cell_type": "markdown",
      "metadata": {
        "id": "XM-dXizKX9_C"
      },
      "source": [
        "## a) List of Orders available and Not available"
      ]
    },
    {
      "cell_type": "code",
      "metadata": {
        "colab": {
          "base_uri": "https://localhost:8080/"
        },
        "id": "8DSpo_u4X5Ux",
        "outputId": "88c06b20-794e-4fa8-ee91-d74b2da84abd"
      },
      "source": [
        "X1,Y1 = [],[]\n",
        "for i in order:\n",
        "    if i in avail_items_1:\n",
        "        if len(avail_items_1[i]) != 0:\n",
        "            X1.append(i)\n",
        "    else : Y1.append(i)\n",
        "print(\"\\nYour Order List is: \", order, \"\\n\")\n",
        "print(\"Orders Available in Warehouse: \", X, \"\\n\")\n",
        "print(\"Orders Not Available in Warehouse: \", Y)\n",
        "\n",
        "X_loc_1 = []\n",
        "for i in X1:\n",
        "    X_loc_1.append(heappop(avail_items_1[i])[1])\n",
        "\n",
        "X_dict_1 = {}\n",
        "for i in range(len(X1)):\n",
        "    X_dict_1[X1[i]] = X_loc_1[i]"
      ],
      "execution_count": 18,
      "outputs": [
        {
          "output_type": "stream",
          "name": "stdout",
          "text": [
            "\n",
            "Your Order List is:  ['product_1 ', 'product_5 ', 'product_10', 'product_15', 'product_20', 'product_25', 'product_30', 'product_35', 'product_3 ', 'product_6 ', 'product_9 ', 'product_12', 'product_14', 'product_17', 'product_23'] \n",
            "\n",
            "Orders Available in Warehouse:  ['product_1 ', 'product_5 ', 'product_10', 'product_15', 'product_20', 'product_25', 'product_30', 'product_3 ', 'product_6 ', 'product_9 ', 'product_12', 'product_14', 'product_17', 'product_23'] \n",
            "\n",
            "Orders Not Available in Warehouse:  ['product_35']\n"
          ]
        }
      ]
    },
    {
      "cell_type": "markdown",
      "metadata": {
        "id": "nL0dbM7kZNuB"
      },
      "source": [
        "## b) **Distance Matrix** for given orders"
      ]
    },
    {
      "cell_type": "code",
      "metadata": {
        "colab": {
          "base_uri": "https://localhost:8080/",
          "height": 749
        },
        "id": "dU8tvfdEZOeI",
        "outputId": "e00a90a1-c9fe-4e9c-d7ac-067b45b4be1a"
      },
      "source": [
        "dist_mat_1 = np.zeros([len(X1),len(X1)], dtype=int)\n",
        "\n",
        "for i in range(len(X1)):\n",
        "    for j in range(i+1,len(X1)):\n",
        "        dist_mat_1[i][j] = dist_mat_1[j][i] = distance(X_dict_1[X[i]].copy(),X_dict_1[X[j]].copy())\n",
        "\n",
        "print(dist_mat_1, \"\\n\")\n",
        "data_1 = np.array(dist_mat_1)\n",
        "import pandas as pd\n",
        "pd.DataFrame(data_1,X1,X1)"
      ],
      "execution_count": 19,
      "outputs": [
        {
          "output_type": "stream",
          "name": "stdout",
          "text": [
            "[[ 0  5 12 16 12 16  9 13 10 18 16 13 19 10]\n",
            " [ 5  0 16 20 14 20 11 17 14 22 20 13 23 14]\n",
            " [12 16  0 13  9  7  6  4  7 15  7 10 10  7]\n",
            " [16 20 13  0  7  9 10 12 11  7  9  8  6 15]\n",
            " [12 14  9  7  0  7  6 10  7  9  7  4 10 13]\n",
            " [16 20  7  9  7  0 10  6  9 13  3  8  6  9]\n",
            " [ 9 11  6 10  6 10  0  7  4 12 10  7 13 10]\n",
            " [13 17  4 12 10  6  7  0  6 16  6 11  9  6]\n",
            " [10 14  7 11  7  9  4  6  0 13  9  8 12  9]\n",
            " [18 22 15  7  9 13 12 16 13  0 13 10 10 19]\n",
            " [16 20  7  9  7  3 10  6  9 13  0  8  6  9]\n",
            " [13 13 10  8  4  8  7 11  8 10  8  0 11 14]\n",
            " [19 23 10  6 10  6 13  9 12 10  6 11  0 12]\n",
            " [10 14  7 15 13  9 10  6  9 19  9 14 12  0]] \n",
            "\n"
          ]
        },
        {
          "output_type": "execute_result",
          "data": {
            "text/html": [
              "<div>\n",
              "<style scoped>\n",
              "    .dataframe tbody tr th:only-of-type {\n",
              "        vertical-align: middle;\n",
              "    }\n",
              "\n",
              "    .dataframe tbody tr th {\n",
              "        vertical-align: top;\n",
              "    }\n",
              "\n",
              "    .dataframe thead th {\n",
              "        text-align: right;\n",
              "    }\n",
              "</style>\n",
              "<table border=\"1\" class=\"dataframe\">\n",
              "  <thead>\n",
              "    <tr style=\"text-align: right;\">\n",
              "      <th></th>\n",
              "      <th>product_1</th>\n",
              "      <th>product_5</th>\n",
              "      <th>product_10</th>\n",
              "      <th>product_15</th>\n",
              "      <th>product_20</th>\n",
              "      <th>product_25</th>\n",
              "      <th>product_30</th>\n",
              "      <th>product_3</th>\n",
              "      <th>product_6</th>\n",
              "      <th>product_9</th>\n",
              "      <th>product_12</th>\n",
              "      <th>product_14</th>\n",
              "      <th>product_17</th>\n",
              "      <th>product_23</th>\n",
              "    </tr>\n",
              "  </thead>\n",
              "  <tbody>\n",
              "    <tr>\n",
              "      <th>product_1</th>\n",
              "      <td>0</td>\n",
              "      <td>5</td>\n",
              "      <td>12</td>\n",
              "      <td>16</td>\n",
              "      <td>12</td>\n",
              "      <td>16</td>\n",
              "      <td>9</td>\n",
              "      <td>13</td>\n",
              "      <td>10</td>\n",
              "      <td>18</td>\n",
              "      <td>16</td>\n",
              "      <td>13</td>\n",
              "      <td>19</td>\n",
              "      <td>10</td>\n",
              "    </tr>\n",
              "    <tr>\n",
              "      <th>product_5</th>\n",
              "      <td>5</td>\n",
              "      <td>0</td>\n",
              "      <td>16</td>\n",
              "      <td>20</td>\n",
              "      <td>14</td>\n",
              "      <td>20</td>\n",
              "      <td>11</td>\n",
              "      <td>17</td>\n",
              "      <td>14</td>\n",
              "      <td>22</td>\n",
              "      <td>20</td>\n",
              "      <td>13</td>\n",
              "      <td>23</td>\n",
              "      <td>14</td>\n",
              "    </tr>\n",
              "    <tr>\n",
              "      <th>product_10</th>\n",
              "      <td>12</td>\n",
              "      <td>16</td>\n",
              "      <td>0</td>\n",
              "      <td>13</td>\n",
              "      <td>9</td>\n",
              "      <td>7</td>\n",
              "      <td>6</td>\n",
              "      <td>4</td>\n",
              "      <td>7</td>\n",
              "      <td>15</td>\n",
              "      <td>7</td>\n",
              "      <td>10</td>\n",
              "      <td>10</td>\n",
              "      <td>7</td>\n",
              "    </tr>\n",
              "    <tr>\n",
              "      <th>product_15</th>\n",
              "      <td>16</td>\n",
              "      <td>20</td>\n",
              "      <td>13</td>\n",
              "      <td>0</td>\n",
              "      <td>7</td>\n",
              "      <td>9</td>\n",
              "      <td>10</td>\n",
              "      <td>12</td>\n",
              "      <td>11</td>\n",
              "      <td>7</td>\n",
              "      <td>9</td>\n",
              "      <td>8</td>\n",
              "      <td>6</td>\n",
              "      <td>15</td>\n",
              "    </tr>\n",
              "    <tr>\n",
              "      <th>product_20</th>\n",
              "      <td>12</td>\n",
              "      <td>14</td>\n",
              "      <td>9</td>\n",
              "      <td>7</td>\n",
              "      <td>0</td>\n",
              "      <td>7</td>\n",
              "      <td>6</td>\n",
              "      <td>10</td>\n",
              "      <td>7</td>\n",
              "      <td>9</td>\n",
              "      <td>7</td>\n",
              "      <td>4</td>\n",
              "      <td>10</td>\n",
              "      <td>13</td>\n",
              "    </tr>\n",
              "    <tr>\n",
              "      <th>product_25</th>\n",
              "      <td>16</td>\n",
              "      <td>20</td>\n",
              "      <td>7</td>\n",
              "      <td>9</td>\n",
              "      <td>7</td>\n",
              "      <td>0</td>\n",
              "      <td>10</td>\n",
              "      <td>6</td>\n",
              "      <td>9</td>\n",
              "      <td>13</td>\n",
              "      <td>3</td>\n",
              "      <td>8</td>\n",
              "      <td>6</td>\n",
              "      <td>9</td>\n",
              "    </tr>\n",
              "    <tr>\n",
              "      <th>product_30</th>\n",
              "      <td>9</td>\n",
              "      <td>11</td>\n",
              "      <td>6</td>\n",
              "      <td>10</td>\n",
              "      <td>6</td>\n",
              "      <td>10</td>\n",
              "      <td>0</td>\n",
              "      <td>7</td>\n",
              "      <td>4</td>\n",
              "      <td>12</td>\n",
              "      <td>10</td>\n",
              "      <td>7</td>\n",
              "      <td>13</td>\n",
              "      <td>10</td>\n",
              "    </tr>\n",
              "    <tr>\n",
              "      <th>product_3</th>\n",
              "      <td>13</td>\n",
              "      <td>17</td>\n",
              "      <td>4</td>\n",
              "      <td>12</td>\n",
              "      <td>10</td>\n",
              "      <td>6</td>\n",
              "      <td>7</td>\n",
              "      <td>0</td>\n",
              "      <td>6</td>\n",
              "      <td>16</td>\n",
              "      <td>6</td>\n",
              "      <td>11</td>\n",
              "      <td>9</td>\n",
              "      <td>6</td>\n",
              "    </tr>\n",
              "    <tr>\n",
              "      <th>product_6</th>\n",
              "      <td>10</td>\n",
              "      <td>14</td>\n",
              "      <td>7</td>\n",
              "      <td>11</td>\n",
              "      <td>7</td>\n",
              "      <td>9</td>\n",
              "      <td>4</td>\n",
              "      <td>6</td>\n",
              "      <td>0</td>\n",
              "      <td>13</td>\n",
              "      <td>9</td>\n",
              "      <td>8</td>\n",
              "      <td>12</td>\n",
              "      <td>9</td>\n",
              "    </tr>\n",
              "    <tr>\n",
              "      <th>product_9</th>\n",
              "      <td>18</td>\n",
              "      <td>22</td>\n",
              "      <td>15</td>\n",
              "      <td>7</td>\n",
              "      <td>9</td>\n",
              "      <td>13</td>\n",
              "      <td>12</td>\n",
              "      <td>16</td>\n",
              "      <td>13</td>\n",
              "      <td>0</td>\n",
              "      <td>13</td>\n",
              "      <td>10</td>\n",
              "      <td>10</td>\n",
              "      <td>19</td>\n",
              "    </tr>\n",
              "    <tr>\n",
              "      <th>product_12</th>\n",
              "      <td>16</td>\n",
              "      <td>20</td>\n",
              "      <td>7</td>\n",
              "      <td>9</td>\n",
              "      <td>7</td>\n",
              "      <td>3</td>\n",
              "      <td>10</td>\n",
              "      <td>6</td>\n",
              "      <td>9</td>\n",
              "      <td>13</td>\n",
              "      <td>0</td>\n",
              "      <td>8</td>\n",
              "      <td>6</td>\n",
              "      <td>9</td>\n",
              "    </tr>\n",
              "    <tr>\n",
              "      <th>product_14</th>\n",
              "      <td>13</td>\n",
              "      <td>13</td>\n",
              "      <td>10</td>\n",
              "      <td>8</td>\n",
              "      <td>4</td>\n",
              "      <td>8</td>\n",
              "      <td>7</td>\n",
              "      <td>11</td>\n",
              "      <td>8</td>\n",
              "      <td>10</td>\n",
              "      <td>8</td>\n",
              "      <td>0</td>\n",
              "      <td>11</td>\n",
              "      <td>14</td>\n",
              "    </tr>\n",
              "    <tr>\n",
              "      <th>product_17</th>\n",
              "      <td>19</td>\n",
              "      <td>23</td>\n",
              "      <td>10</td>\n",
              "      <td>6</td>\n",
              "      <td>10</td>\n",
              "      <td>6</td>\n",
              "      <td>13</td>\n",
              "      <td>9</td>\n",
              "      <td>12</td>\n",
              "      <td>10</td>\n",
              "      <td>6</td>\n",
              "      <td>11</td>\n",
              "      <td>0</td>\n",
              "      <td>12</td>\n",
              "    </tr>\n",
              "    <tr>\n",
              "      <th>product_23</th>\n",
              "      <td>10</td>\n",
              "      <td>14</td>\n",
              "      <td>7</td>\n",
              "      <td>15</td>\n",
              "      <td>13</td>\n",
              "      <td>9</td>\n",
              "      <td>10</td>\n",
              "      <td>6</td>\n",
              "      <td>9</td>\n",
              "      <td>19</td>\n",
              "      <td>9</td>\n",
              "      <td>14</td>\n",
              "      <td>12</td>\n",
              "      <td>0</td>\n",
              "    </tr>\n",
              "  </tbody>\n",
              "</table>\n",
              "</div>"
            ],
            "text/plain": [
              "            product_1   product_5   ...  product_17  product_23\n",
              "product_1            0           5  ...          19          10\n",
              "product_5            5           0  ...          23          14\n",
              "product_10          12          16  ...          10           7\n",
              "product_15          16          20  ...           6          15\n",
              "product_20          12          14  ...          10          13\n",
              "product_25          16          20  ...           6           9\n",
              "product_30           9          11  ...          13          10\n",
              "product_3           13          17  ...           9           6\n",
              "product_6           10          14  ...          12           9\n",
              "product_9           18          22  ...          10          19\n",
              "product_12          16          20  ...           6           9\n",
              "product_14          13          13  ...          11          14\n",
              "product_17          19          23  ...           0          12\n",
              "product_23          10          14  ...          12           0\n",
              "\n",
              "[14 rows x 14 columns]"
            ]
          },
          "metadata": {},
          "execution_count": 19
        }
      ]
    },
    {
      "cell_type": "markdown",
      "metadata": {
        "id": "i3icxUCiZtP7"
      },
      "source": [
        "## c) **RouteFinder object** and solving using **solve()** function "
      ]
    },
    {
      "cell_type": "code",
      "metadata": {
        "colab": {
          "base_uri": "https://localhost:8080/"
        },
        "id": "g-MGntDmZwJg",
        "outputId": "b74ba2d0-abe1-48f5-9f58-e8a3f22dda14"
      },
      "source": [
        "first_order_1 = RouteFinder(dist_mat_1, X1, iterations=100)\n",
        "a1,b1 = first_order_1.solve()\n",
        "print('2-optimal distance for given order is ', a1, ' units')\n",
        "print('2-optimal route is \\n', b1)"
      ],
      "execution_count": 20,
      "outputs": [
        {
          "output_type": "stream",
          "name": "stdout",
          "text": [
            "2-optimal distance for given order is  80.0  units\n",
            "2-optimal route is \n",
            " ['product_1 ', 'product_5 ', 'product_30', 'product_6 ', 'product_20', 'product_14', 'product_9 ', 'product_15', 'product_17', 'product_12', 'product_25', 'product_10', 'product_3 ', 'product_23']\n"
          ]
        }
      ]
    },
    {
      "cell_type": "markdown",
      "metadata": {
        "id": "Jl8SkK25aamK"
      },
      "source": [
        "## d) Visualization of Route"
      ]
    },
    {
      "cell_type": "markdown",
      "metadata": {
        "id": "U1iM3lwtanD9"
      },
      "source": [
        "### i) Final Optimized Route"
      ]
    },
    {
      "cell_type": "code",
      "metadata": {
        "colab": {
          "base_uri": "https://localhost:8080/",
          "height": 537
        },
        "id": "TRGjrZiMal7I",
        "outputId": "6e35734b-56f1-4939-d295-a4e785af5130"
      },
      "source": [
        "xx1 = []\n",
        "yy1 = []\n",
        "for i in b1:\n",
        "    xx1.append(X_dict_1[i][0])\n",
        "    yy1.append(X_dict_1[i][1])\n",
        "\n",
        "plt.figure(figsize=(15,9))\n",
        "plt.plot(xx1, yy1)\n",
        "plt.scatter(xx1,yy1,c='b')\n",
        "plt.scatter([X_dict_1[b1[0]][0]],[X_dict_1[b1[0]][1]],c='lime', marker='D', linewidths=10)\n",
        "plt.scatter([X_dict_1[b1[-1]][0]],[X_dict_1[b1[-1]][1]],c='r', marker='D', linewidths=10)\n",
        "\n",
        "# Increasing head_width of the arrow by setting head_width parameter\n",
        "for i in range(1,len(xx1)):\n",
        "    plt.arrow(xx1[i-1], yy1[i-1], (xx1[i]-xx1[i-1])/2, (yy1[i]-yy1[i-1])/2,head_width = 0.25,width = 0.005,fc ='aqua', ec ='b')\n",
        "\n",
        "plt.show()"
      ],
      "execution_count": 21,
      "outputs": [
        {
          "output_type": "display_data",
          "data": {
            "image/png": "[encoded data removed]",
            "text/plain": [
              "<Figure size 1080x648 with 1 Axes>"
            ]
          },
          "metadata": {
            "needs_background": "light"
          }
        }
      ]
    }
  ]
}